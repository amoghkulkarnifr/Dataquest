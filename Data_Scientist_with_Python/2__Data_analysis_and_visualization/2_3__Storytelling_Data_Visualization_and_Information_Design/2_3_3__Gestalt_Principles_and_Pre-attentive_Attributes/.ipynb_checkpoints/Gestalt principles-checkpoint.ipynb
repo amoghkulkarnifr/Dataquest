{
 "cells": [
  {
   "cell_type": "markdown",
   "id": "33c65d1c",
   "metadata": {},
   "source": [
    "# Gestalt Principles: Introduction\n",
    "\n",
    "<div><p>In the first lesson, we learned two design principles:</p>\n",
    "<ul>\n",
    "<li>Familiarity (choose what is most familiar to your audience)</li>\n",
    "<li>Maximizing the data-ink ratio</li>\n",
    "</ul>\n",
    "<p>Design principles help us in two ways:</p>\n",
    "<ul>\n",
    "<li>They generate design options.</li>\n",
    "<li>They help us choose among those options.</li>\n",
    "</ul>\n",
    "<p>We can derive a few other useful design principles if we understand how our visual perception works. Let's take a look at the image below.</p>\n",
    "<p></p><center>\n",
    "<img src=\"https://s3.amazonaws.com/dq-content/527/1.1-m527.svg\" alt=\"img\">\n",
    "</center><p></p>\n",
    "<p>If you see a square and a triangle, then you perceive a pattern. If we break down the image into individual components, however, we only have a bunch of small gray circles arbitrarily spaced and arranged. Then why do we see a pattern?</p>\n",
    "<p>The pattern we see is a result of how our visual system processes the individual components. Our interest as data scientists is to predict what sort of patterns people see in our data visualizations. To predict that, we can use the <strong>Gestalt principles</strong>.</p>\n",
    "<p>The idea behind Gestalt principles is that humans generally perceive patterns rather than individual objects. From a practical point of view,  <strong>Gestalt principles</strong> tell us what sort of pattern we can expect people to see when we show them our data visualizations. Let's get started!</p></div>"
   ]
  },
  {
   "cell_type": "code",
   "execution_count": null,
   "id": "0cb0f0bf",
   "metadata": {},
   "outputs": [],
   "source": []
  }
 ],
 "metadata": {
  "kernelspec": {
   "display_name": "Python 3",
   "language": "python",
   "name": "python3"
  },
  "language_info": {
   "codemirror_mode": {
    "name": "ipython",
    "version": 3
   },
   "file_extension": ".py",
   "mimetype": "text/x-python",
   "name": "python",
   "nbconvert_exporter": "python",
   "pygments_lexer": "ipython3",
   "version": "3.8.10"
  }
 },
 "nbformat": 4,
 "nbformat_minor": 5
}
