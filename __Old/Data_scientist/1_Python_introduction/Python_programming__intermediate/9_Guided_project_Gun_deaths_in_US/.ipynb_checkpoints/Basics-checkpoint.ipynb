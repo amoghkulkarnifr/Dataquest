{
 "cells": [
  {
   "cell_type": "markdown",
   "metadata": {
    "collapsed": true
   },
   "source": [
    "# 1. Introducing US Gun Deaths Data\n",
    "\n",
    "Analyzing data on gun deaths in the US. The data looks like this -\n",
    "\n",
    "|year|month|intent|police|sex|age|race|hispanic|place|education\n",
    ":---:|:---:|:----:|:----:|:---:|:---:|:---:|:---:|:---:|:----:\n",
    "1|2012|1|Suicide|0|M|34.0|Asian/Pacific Islander|100|Home|4.0\n",
    "2|2012|1|Suicide|0|F|21.0|White|100|Street|3.0\n",
    "3|2012|1|Suicide|0|M|60.0|White|100|Other specified|4.0\n",
    "4|2012|2|Suicide|0|M|64.0|White|100|Home|4.0\n",
    "5|2012|2|Suicide|0|M|31.0|White|100|Other specified|2.0\n",
    "\n",
    "Fields in the data - \n",
    "* `intent` -- the intent of the perpetrator of the crime. This can be `Suicide`, `Accidental`, `NA`, `Homicide`, or `Undetermined`.\n",
    "* `police` -- whether a police officer was involved with the shooting. Either `0` (false) or `1` (true).\n",
    "* `race` -- Either `Asian/Pacific Islander`, `Native American/Native Alaskan`, `Black`, `Hispanic`, or `White`.\n",
    "* `hispanic` -- a code indicating the Hispanic origin of the victim.\n",
    "* `education` -- educational status of the victim. Ranges from `1` (which is encoded for 'Less than high school') to `4` (for 'at least graduated from college). `5` is 'Not Available'.\n",
    "\n",
    "**Instructions**\n",
    "* Read the dataset in as a list using the [`csv`](https://docs.python.org/3/library/csv.html) module.\n",
    "* Call [`list()`](https://docs.python.org/3/library/functions.html#func-list) on the result to get a list of all the data in the file.\n",
    "* Display the first `5` rows of `data` to verify everything."
   ]
  },
  {
   "cell_type": "code",
   "execution_count": 16,
   "metadata": {
    "collapsed": false
   },
   "outputs": [
    {
     "data": {
      "text/plain": [
       "[['',\n",
       "  'year',\n",
       "  'month',\n",
       "  'intent',\n",
       "  'police',\n",
       "  'sex',\n",
       "  'age',\n",
       "  'race',\n",
       "  'hispanic',\n",
       "  'place',\n",
       "  'education'],\n",
       " ['1',\n",
       "  '2012',\n",
       "  '01',\n",
       "  'Suicide',\n",
       "  '0',\n",
       "  'M',\n",
       "  '34',\n",
       "  'Asian/Pacific Islander',\n",
       "  '100',\n",
       "  'Home',\n",
       "  '4'],\n",
       " ['2', '2012', '01', 'Suicide', '0', 'F', '21', 'White', '100', 'Street', '3'],\n",
       " ['3',\n",
       "  '2012',\n",
       "  '01',\n",
       "  'Suicide',\n",
       "  '0',\n",
       "  'M',\n",
       "  '60',\n",
       "  'White',\n",
       "  '100',\n",
       "  'Other specified',\n",
       "  '4'],\n",
       " ['4', '2012', '02', 'Suicide', '0', 'M', '64', 'White', '100', 'Home', '4']]"
      ]
     },
     "execution_count": 16,
     "metadata": {},
     "output_type": "execute_result"
    }
   ],
   "source": [
    "import csv\n",
    "csv_file = open(\"guns.csv\", \"r\")\n",
    "csv_raw_data = csv.reader(csv_file)\n",
    "\n",
    "data = list(csv_raw_data)\n",
    "csv_file.close()\n",
    "\n",
    "data[:5]"
   ]
  },
  {
   "cell_type": "markdown",
   "metadata": {},
   "source": [
    "# 2. Removing Headers From A List Of Lists\n",
    "\n",
    "**Instructions**\n",
    "\n",
    "* Extract the first row of `data`, and assign it to the variable `headers`.\n",
    "* Remove the first row from `data`.\n",
    "* Display `headers`.\n",
    "* Display the first `5` rows of `data` to verify that you removed the header row properly.\n",
    "\n",
    "_P.S. If we don't use `deepcopy()`, `headers` will be assigned with the first datapoint after execution of the block. Since in Python, `=` only assigns the reference and we are modifying `data` after assigning it._ "
   ]
  },
  {
   "cell_type": "code",
   "execution_count": 17,
   "metadata": {
    "collapsed": false
   },
   "outputs": [
    {
     "name": "stdout",
     "output_type": "stream",
     "text": [
      "['', 'year', 'month', 'intent', 'police', 'sex', 'age', 'race', 'hispanic', 'place', 'education']\n",
      "[['1', '2012', '01', 'Suicide', '0', 'M', '34', 'Asian/Pacific Islander', '100', 'Home', '4'], ['2', '2012', '01', 'Suicide', '0', 'F', '21', 'White', '100', 'Street', '3'], ['3', '2012', '01', 'Suicide', '0', 'M', '60', 'White', '100', 'Other specified', '4'], ['4', '2012', '02', 'Suicide', '0', 'M', '64', 'White', '100', 'Home', '4'], ['5', '2012', '02', 'Suicide', '0', 'M', '31', 'White', '100', 'Other specified', '2']]\n"
     ]
    }
   ],
   "source": [
    "from copy import deepcopy\n",
    "headers = deepcopy(data[0])\n",
    "data = data[1:]\n",
    "print(headers)\n",
    "print(data[:5])"
   ]
  },
  {
   "cell_type": "markdown",
   "metadata": {},
   "source": [
    "# 3. Counting Gun Deaths By Year\n",
    "\n",
    "**Instructions**\n",
    "\n",
    "* Use a list comprehension to extract the `year` column from `data`.\n",
    "* Create an empty dictionary called `year_counts`.\n",
    "* Loop through each element in `years` and increment the count value of the currosponding year in the dictionary."
   ]
  },
  {
   "cell_type": "code",
   "execution_count": 18,
   "metadata": {
    "collapsed": false
   },
   "outputs": [
    {
     "name": "stdout",
     "output_type": "stream",
     "text": [
      "{'2014': 33599, '2012': 33563, '2013': 33636}\n"
     ]
    }
   ],
   "source": [
    "years = [row[1] for row in data]\n",
    "year_counts = {}\n",
    "for year in years:\n",
    "    if year in year_counts:\n",
    "        year_counts[year] += 1\n",
    "    else:\n",
    "        year_counts[year] = 1\n",
    "print(year_counts)"
   ]
  },
  {
   "cell_type": "markdown",
   "metadata": {},
   "source": [
    "# 4. Exploring Gun Deaths By Month And Year\n",
    "\n",
    "It looks like gun deaths didn't change much by year from 2012 to 2014. Let's see if gun deaths in the US change by month and year. In order to do this, we'll have to create a [`datetime.datetime`](https://docs.python.org/3/library/datetime.html#datetime-objects) object using the year and month columns.\n",
    "\n",
    "**Instructions**\n",
    "\n",
    "* Use a list comprehension to create a `datetime.datetime` object for each row. Assign the result to `dates`.\n",
    "* Display the first 5 rows in `dates` to verify everything worked.\n",
    "* Count up how many times each unique `date` occurs in `dates`. Assign the result to `date_counts`.\n",
    "* Display `date_counts`."
   ]
  },
  {
   "cell_type": "code",
   "execution_count": 19,
   "metadata": {
    "collapsed": false
   },
   "outputs": [
    {
     "name": "stdout",
     "output_type": "stream",
     "text": [
      "[datetime.datetime(2012, 1, 1, 0, 0), datetime.datetime(2012, 1, 1, 0, 0), datetime.datetime(2012, 1, 1, 0, 0), datetime.datetime(2012, 2, 1, 0, 0), datetime.datetime(2012, 2, 1, 0, 0)]\n",
      "date_counts contents:\n",
      "{datetime.datetime(2014, 8, 1, 0, 0): 2970, datetime.datetime(2012, 2, 1, 0, 0): 2357, datetime.datetime(2012, 5, 1, 0, 0): 2999, datetime.datetime(2013, 2, 1, 0, 0): 2375, datetime.datetime(2013, 5, 1, 0, 0): 2806, datetime.datetime(2012, 10, 1, 0, 0): 2733, datetime.datetime(2013, 4, 1, 0, 0): 2798, datetime.datetime(2012, 3, 1, 0, 0): 2743, datetime.datetime(2014, 10, 1, 0, 0): 2865, datetime.datetime(2014, 6, 1, 0, 0): 2931, datetime.datetime(2012, 6, 1, 0, 0): 2826, datetime.datetime(2013, 12, 1, 0, 0): 2765, datetime.datetime(2012, 1, 1, 0, 0): 2758, datetime.datetime(2014, 4, 1, 0, 0): 2862, datetime.datetime(2014, 2, 1, 0, 0): 2361, datetime.datetime(2013, 11, 1, 0, 0): 2758, datetime.datetime(2012, 4, 1, 0, 0): 2795, datetime.datetime(2014, 3, 1, 0, 0): 2684, datetime.datetime(2014, 12, 1, 0, 0): 2857, datetime.datetime(2012, 12, 1, 0, 0): 2791, datetime.datetime(2014, 9, 1, 0, 0): 2914, datetime.datetime(2014, 7, 1, 0, 0): 2884, datetime.datetime(2013, 3, 1, 0, 0): 2862, datetime.datetime(2013, 6, 1, 0, 0): 2920, datetime.datetime(2014, 5, 1, 0, 0): 2864, datetime.datetime(2013, 8, 1, 0, 0): 2859, datetime.datetime(2012, 7, 1, 0, 0): 3026, datetime.datetime(2012, 11, 1, 0, 0): 2729, datetime.datetime(2013, 1, 1, 0, 0): 2864, datetime.datetime(2012, 8, 1, 0, 0): 2954, datetime.datetime(2012, 9, 1, 0, 0): 2852, datetime.datetime(2014, 11, 1, 0, 0): 2756, datetime.datetime(2013, 10, 1, 0, 0): 2808, datetime.datetime(2014, 1, 1, 0, 0): 2651, datetime.datetime(2013, 9, 1, 0, 0): 2742, datetime.datetime(2013, 7, 1, 0, 0): 3079}\n"
     ]
    }
   ],
   "source": [
    "import datetime\n",
    "dates = [datetime.datetime(year=int(row[1]), month=int(row[2]), day=1) for row in data]\n",
    "print(dates[:5])\n",
    "date_counts = {}\n",
    "for date in dates:\n",
    "    if date in date_counts:\n",
    "        date_counts[date] += 1\n",
    "    else:\n",
    "        date_counts[date] = 1\n",
    "print(\"date_counts contents:\")\n",
    "print(date_counts)"
   ]
  },
  {
   "cell_type": "markdown",
   "metadata": {},
   "source": [
    "# 5. Exploring Gun Deaths By Race And Sex\n",
    "\n",
    "**Instructions**\n",
    "\n",
    "* Count up how many times each item in the `sex` column occurs.\n",
    "* Count up how many times each item in the `race` column occurs.\n",
    "* Display `race_counts` and `sex_counts` to verify your work, and see if you can spot any patterns.\n",
    "* Write a markdown cell detailing what you've learned so far, and what you think might need further examination."
   ]
  },
  {
   "cell_type": "code",
   "execution_count": 20,
   "metadata": {
    "collapsed": false
   },
   "outputs": [
    {
     "name": "stdout",
     "output_type": "stream",
     "text": [
      "{'White': 66237, 'Black': 23296, 'Native American/Native Alaskan': 917, 'Asian/Pacific Islander': 1326, 'Hispanic': 9022}\n",
      "{'F': 14449, 'M': 86349}\n"
     ]
    }
   ],
   "source": [
    "def column_counts(col_num):\n",
    "    col_values = [row[col_num] for row in data]\n",
    "    col_counts = {}\n",
    "    for col_value in col_values:\n",
    "        if col_value in col_counts:\n",
    "            col_counts[col_value] += 1\n",
    "        else:\n",
    "            col_counts[col_value] = 1\n",
    "    return col_counts\n",
    "\n",
    "race_counts = column_counts(7)\n",
    "sex_counts = column_counts(5)\n",
    "\n",
    "print(race_counts)\n",
    "print(sex_counts)"
   ]
  },
  {
   "cell_type": "markdown",
   "metadata": {},
   "source": [
    "Notes:\n",
    "1. A lot of variation in the death counts in different races. Whites have significantly more death count in them and Asian/Pacific Islanders have minimum deaths. This might be because of the difference in the racial distribution in US (i.e. most of the population being white and Native American/Native Alaskan being a minority).\n",
    "2. Female deaths are significantly lower than those in males, which might be because of less inclusion of females in the scenarios where guns are used (e.g. gang-wars and stuff - trying not to be to steriotypical).\n",
    "3. It might be worthwhile to note the trend of cross-section of these two features and see if they follow the same pattern (e.g. if white male to white female ratio is the same as that of male to female ratio, or if female distribution in all the races is identical to that of the general population)."
   ]
  },
  {
   "cell_type": "markdown",
   "metadata": {},
   "source": [
    "# 6. Reading In A Second Dataset\n",
    "\n",
    "We explored gun deaths by race in the past screen. However, our analysis only gives us the total number of gun deaths by race in the US. Unless we know the proportion of each race in the US, we won't be able to meaningfully compare those numbers. What we really want to get is a rate of gun deaths per 100000 people of each race. In order to do this, we'll need to read in data from `census.csv` which is about what percentage of the US population falls into each racial category. Luckily, we can import some census data to help us out.\n",
    "\n",
    "Data -\n",
    "\n",
    "|Id|Year|Id.1|Sex|Id.2|Hispanic Origin|Id.3|Id2|Geography|Total|Race Alone - White|Race Alone - Hispanic|Race Alone - Black or African American|Race Alone - American Indian and Alaska Native|Race Alone - Asian|Race Alone - Native Hawaiian and Other Pacific Islander|Two or More Races\n",
    ":---:|:---:|:---:|:---:|:---:|:---:|:---:|:---:|:---:|:---:|:---:|:---:|:---:|:---:|:---:|:---:|:---:|:---:\n",
    "0|cen42010|April 1, 2010 Census|totsex|Both Sexes|tothisp|Total|0100000US|NaN|United States|308745538|197318956|44618105|40250635|3739506|15159516|674625|6984195\n",
    "\n",
    "**Instructions**\n",
    "\n",
    "* Read in `census.csv`, and convert to a list of lists. Assign the result to the `census` variable.\n",
    "* Display `census` to verify your work."
   ]
  },
  {
   "cell_type": "code",
   "execution_count": 21,
   "metadata": {
    "collapsed": false
   },
   "outputs": [
    {
     "name": "stdout",
     "output_type": "stream",
     "text": [
      "[['Id', 'Year', 'Id', 'Sex', 'Id', 'Hispanic Origin', 'Id', 'Id2', 'Geography', 'Total', 'Race Alone - White', 'Race Alone - Hispanic', 'Race Alone - Black or African American', 'Race Alone - American Indian and Alaska Native', 'Race Alone - Asian', 'Race Alone - Native Hawaiian and Other Pacific Islander', 'Two or More Races'], ['cen42010', 'April 1, 2010 Census', 'totsex', 'Both Sexes', 'tothisp', 'Total', '0100000US', '', 'United States', '308745538', '197318956', '44618105', '40250635', '3739506', '15159516', '674625', '6984195']]\n"
     ]
    }
   ],
   "source": [
    "with open(\"census.csv\") as f:\n",
    "    census = list(csv.reader(f))\n",
    "print(census)"
   ]
  },
  {
   "cell_type": "markdown",
   "metadata": {},
   "source": [
    "# 7. Computing Rates Of Gun Deaths Per Race\n",
    "\n",
    "In order to get from the raw counts of gun deaths by race to a rate of gun deaths per `100000` people in each race, we'll need to divide the total number of gun deaths by the population of each race and then multiply the result with `100000`. For example, we carry out this calculation in case of white, we get the number `33.56`, which we can interpret as \"`33.56` out of every `100000` people in the `White` census race category in the US were killed by guns between `2012` and `2014`\".\n",
    "\n",
    "**Instructions**\n",
    "\n",
    "* Manually create a dictionary, `mapping` that maps each key from `race_counts` to the population count of the race from `census`.\n",
    "* Create an empty dictionary, `race_per_hundredk`.\n",
    "* Loop through each key in `race_counts` and populate it with the rate of gun deaths per 100k for each race.\n",
    "* Print `race_per_hundredk`."
   ]
  },
  {
   "cell_type": "code",
   "execution_count": 24,
   "metadata": {
    "collapsed": false
   },
   "outputs": [
    {
     "name": "stdout",
     "output_type": "stream",
     "text": [
      "{'White': 148.45318957405297, 'Black': 622.9699858751396, 'Asian/Pacific Islander': 17.313372033811998, 'Native American/Native Alaskan': 6.049005786200562, 'Hispanic': 22.41455321139654}\n"
     ]
    }
   ],
   "source": [
    "mapping = {}\n",
    "mapping['Asian/Pacific Islander'] = int(census[1][15]) + int(census[1][16]) \n",
    "mapping['Black'] = int(census[1][13])\n",
    "mapping['Native American/Native Alaskan'] = int(census[1][14]) \n",
    "mapping['Hispanic'] = int(census[1][12])\n",
    "mapping['White'] = int(census[1][11])\n",
    "\n",
    "race_per_hundredk = {}\n",
    "for race in race_counts:\n",
    "    race_per_hundredk[race] = race_counts[race] / mapping[race] * 100000\n",
    "\n",
    "print(race_per_hundredk)"
   ]
  },
  {
   "cell_type": "markdown",
   "metadata": {},
   "source": [
    "# 8. Filtering By Intent\n",
    "\n",
    "We can filter our results, and restrict them to the `Homicide` intent. This will tell us what the gun-related murder rate per `100000` people in each racial category is. In order to do this, we'll need to redo our work in generating `race_counts`, but only count rows where the `intent` was `Homicide`.\n",
    "\n",
    "**Instructions**\n",
    "\n",
    "* Extract the `intent` column using a list comprehension. The `intent` column is the fourth column in `data`.\n",
    "* Extract the `race` column using a list comprehension. The `race` column is the eighth column in `data`.\n",
    "* Create an empty dictionary called `homicide_race_counts`.\n",
    "* Use the [`enumerate()`](https://docs.python.org/3/library/functions.html#enumerate) function to loop through each item in `races`. The position should be assigned to the loop variable `i`, and the value to the loop variable `race`.\n",
    "* When you're done, `homicide_race_counts` should have one key for each of the racial categories in `data`. The associated value should be the number of gun deaths by homicide for that race."
   ]
  },
  {
   "cell_type": "code",
   "execution_count": 25,
   "metadata": {
    "collapsed": false
   },
   "outputs": [
    {
     "name": "stdout",
     "output_type": "stream",
     "text": [
      "{'White': 9147, 'Black': 19510, 'Native American/Native Alaskan': 326, 'Asian/Pacific Islander': 559, 'Hispanic': 5634}\n"
     ]
    }
   ],
   "source": [
    "intents = [row[3] for row in data]\n",
    "races = [row[7] for row in data]\n",
    "\n",
    "homicide_race_counts = {}\n",
    "\n",
    "for i, race in enumerate(races):\n",
    "    if intents[i] == 'Homicide':\n",
    "        if race in homicide_race_counts:\n",
    "            homicide_race_counts[race] += 1\n",
    "        else:\n",
    "            homicide_race_counts[race] = 1\n",
    "\n",
    "print(homicide_race_counts)"
   ]
  },
  {
   "cell_type": "markdown",
   "metadata": {},
   "source": [
    "Notes:\n",
    "todo..."
   ]
  },
  {
   "cell_type": "markdown",
   "metadata": {},
   "source": [
    "# 9. Next Steps\n",
    "\n",
    "Here are some potential next steps:\n",
    "\n",
    "* Figure out the link, if any, between month and homicide rate.\n",
    "* Explore the homicide rate by gender.\n",
    "* Explore the rates of other intents, like `Accidental`, by gender and race.\n",
    "* Find out if gun death rates correlate to location and education."
   ]
  }
 ],
 "metadata": {
  "kernelspec": {
   "display_name": "Python 3",
   "language": "python",
   "name": "python3"
  },
  "language_info": {
   "codemirror_mode": {
    "name": "ipython",
    "version": 3
   },
   "file_extension": ".py",
   "mimetype": "text/x-python",
   "name": "python",
   "nbconvert_exporter": "python",
   "pygments_lexer": "ipython3",
   "version": "3.4.3"
  }
 },
 "nbformat": 4,
 "nbformat_minor": 0
}
