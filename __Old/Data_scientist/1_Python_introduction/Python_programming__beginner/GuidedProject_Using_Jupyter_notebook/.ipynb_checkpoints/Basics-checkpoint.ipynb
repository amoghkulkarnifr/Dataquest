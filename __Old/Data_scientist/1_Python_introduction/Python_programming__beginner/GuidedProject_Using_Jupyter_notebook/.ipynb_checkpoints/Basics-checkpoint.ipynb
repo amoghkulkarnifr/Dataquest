{
 "cells": [
  {
   "cell_type": "markdown",
   "metadata": {},
   "source": [
    "# 1. Intro to jupyter Notebook"
   ]
  },
  {
   "cell_type": "markdown",
   "metadata": {},
   "source": [
    "# 2. Displaying Output\n",
    "\n",
    "## Instructions\n",
    "\n",
    "- Display the string object containing the contents of the file and scroll to look at all of the contents."
   ]
  },
  {
   "cell_type": "code",
   "execution_count": 6,
   "metadata": {
    "collapsed": false
   },
   "outputs": [],
   "source": [
    "f = open(\"births.csv\", \"r\")\n",
    "text = f.read()\n",
    "# print(text) # Commented because of hiding the unnecessary long output in GitHub"
   ]
  },
  {
   "cell_type": "markdown",
   "metadata": {},
   "source": [
    "- Using only the keyboard:\n",
    "\n",
    "    - In a new code cell, split the string on the new-line character (\"\\n\") and display the resulting list.\n",
    "    - In a new new code cell, write a for loop that iterates through the list of strings, splits each string on the comma delimiter, and displays the line using a print statement."
   ]
  },
  {
   "cell_type": "code",
   "execution_count": 3,
   "metadata": {
    "collapsed": true
   },
   "outputs": [],
   "source": [
    "lines = text.split(\"\\n\")"
   ]
  },
  {
   "cell_type": "code",
   "execution_count": 7,
   "metadata": {
    "collapsed": false
   },
   "outputs": [],
   "source": [
    "for line in lines:\n",
    "    values = line.split(\",\")\n",
    "    # print(values)"
   ]
  },
  {
   "cell_type": "markdown",
   "metadata": {},
   "source": [
    "# 3. Execution order\n",
    "\n",
    "Intro to 'kernel' - execution order of the cells matter because the cells assume that the variables being used are defined. So even if the cells can be executed in any order, that's not what you'd normally do. \n",
    "\n",
    "** Restart session **\n",
    "\n",
    "When you restart a session, there are no variables or functions defined and the environment is a blank slate."
   ]
  },
  {
   "cell_type": "markdown",
   "metadata": {},
   "source": [
    "# 4. Editing cells\n",
    "\n",
    "## Instructions\n",
    "\n",
    "- Run all of the existing cells in the notebook.\n",
    "- In a new code cell, add code that returns a dictionary containing the total number of births for each unique day of the week."
   ]
  },
  {
   "cell_type": "code",
   "execution_count": 8,
   "metadata": {
    "collapsed": false
   },
   "outputs": [
    {
     "data": {
      "text/plain": [
       "{'1': 5789166,\n",
       " '2': 6446196,\n",
       " '3': 6322855,\n",
       " '4': 6288429,\n",
       " '5': 6233657,\n",
       " '6': 4562111,\n",
       " '7': 4079723}"
      ]
     },
     "execution_count": 8,
     "metadata": {},
     "output_type": "execute_result"
    }
   ],
   "source": [
    "births_in_day_of_week = {}\n",
    "lines_no_header = lines[1:]\n",
    "\n",
    "for row in lines_no_header:\n",
    "    # Split\n",
    "    values = row.split(',')\n",
    "    \n",
    "    # Determine the columns\n",
    "    day_of_week_col = 3\n",
    "    births_col = 4\n",
    "    \n",
    "    # Extract the value\n",
    "    day_of_week = values[day_of_week_col]\n",
    "    births = values[births_col]\n",
    "    \n",
    "    if day_of_week in births_in_day_of_week:\n",
    "        births_in_day_of_week[day_of_week] += int(births)\n",
    "    else:\n",
    "        births_in_day_of_week[day_of_week] = int(births)\n",
    "\n",
    "births_in_day_of_week"
   ]
  },
  {
   "cell_type": "markdown",
   "metadata": {},
   "source": [
    "# 5. Markdown cells\n",
    "\n",
    "Information of the data can be found [here](https://github.com/fivethirtyeight/data/tree/master/births). "
   ]
  },
  {
   "cell_type": "markdown",
   "metadata": {},
   "source": [
    "# 6. Saving and downloading"
   ]
  },
  {
   "cell_type": "code",
   "execution_count": null,
   "metadata": {
    "collapsed": true
   },
   "outputs": [],
   "source": []
  }
 ],
 "metadata": {
  "anaconda-cloud": {},
  "kernelspec": {
   "display_name": "Python 3",
   "language": "python",
   "name": "python3"
  },
  "language_info": {
   "codemirror_mode": {
    "name": "ipython",
    "version": 3
   },
   "file_extension": ".py",
   "mimetype": "text/x-python",
   "name": "python",
   "nbconvert_exporter": "python",
   "pygments_lexer": "ipython3",
   "version": "3.4.3"
  }
 },
 "nbformat": 4,
 "nbformat_minor": 1
}
