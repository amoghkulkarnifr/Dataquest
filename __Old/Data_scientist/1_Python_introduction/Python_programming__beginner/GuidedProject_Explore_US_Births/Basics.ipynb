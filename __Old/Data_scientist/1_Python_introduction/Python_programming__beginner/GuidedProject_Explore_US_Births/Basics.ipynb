{
 "cells": [
  {
   "cell_type": "markdown",
   "metadata": {
    "collapsed": true
   },
   "source": [
    "# 1. Introduction To The Dataset\n",
    "\n",
    "The dataset contains the following columns:\n",
    "\n",
    "`year`: Year (`1994` to `2003`).\n",
    "\n",
    "`month`: Month (`1` to `12`).\n",
    "\n",
    "`date_of_month`: Day number of the month (`1` to `31`).\n",
    "\n",
    "`day_of_week`: Day of week (`1` to `7`).\n",
    "\n",
    "`births`: Number of births that day.\n",
    "\n",
    "**Instructions**\n",
    "\n",
    "- Read the CSV file \"US_births_1994-2003_CDC_NCHS.csv\" into a string.\n",
    "- Split the string on the newline character (\"\\n\").\n",
    "- Display the first 10 values in the resulting list."
   ]
  },
  {
   "cell_type": "code",
   "execution_count": 2,
   "metadata": {
    "collapsed": false
   },
   "outputs": [
    {
     "data": {
      "text/plain": [
       "['year,month,date_of_month,day_of_week,births',\n",
       " '1994,1,1,6,8096',\n",
       " '1994,1,2,7,7772',\n",
       " '1994,1,3,1,10142',\n",
       " '1994,1,4,2,11248',\n",
       " '1994,1,5,3,11053',\n",
       " '1994,1,6,4,11406',\n",
       " '1994,1,7,5,11251',\n",
       " '1994,1,8,6,8653',\n",
       " '1994,1,9,7,7910']"
      ]
     },
     "execution_count": 2,
     "metadata": {},
     "output_type": "execute_result"
    }
   ],
   "source": [
    "f = open(\"US_births_1994-2003_CDC_NCHS.csv\", \"r\")\n",
    "text = f.read()\n",
    "lines = text.split('\\n')\n",
    "lines[0:10]"
   ]
  },
  {
   "cell_type": "markdown",
   "metadata": {},
   "source": [
    "# 2. Converting Data Into A List Of Lists\n",
    "\n",
    "**Instructions**\n",
    "\n",
    "- Create a function named `read_csv()`\n",
    "    - Takes a single, required argument, a string representing the file name of the CSV file.\n",
    "    - Returns a list of lists of integer values in the csv file. Each row becomes a list of integer values and these lists are elements of the list to be returned.\n",
    "    \n",
    "- Use the `read_csv()` function to read in the file `\"US_births_1994-2003_CDC_NCHS.csv\"` and assign the result to `cdc_list`.\n",
    "\n",
    "- Display the first 10 rows of `cdc_list` to confirm it's a list of lists, containing only integer values, and no header row.\n",
    "\n"
   ]
  },
  {
   "cell_type": "code",
   "execution_count": 4,
   "metadata": {
    "collapsed": true
   },
   "outputs": [],
   "source": [
    "# Define the function\n",
    "def read_csv(csv_name):\n",
    "    f = open(csv_name, \"r\")\n",
    "    string_list = f.read().split('\\n')\n",
    "    string_list = string_list[1:]\n",
    "    \n",
    "    final_list = []\n",
    "    \n",
    "    for string in string_list:\n",
    "        int_fields = []\n",
    "        string_fields = string.split(',')\n",
    "        for strf in string_fields:\n",
    "            int_fields.append(int(strf))\n",
    "        final_list.append(int_fields)\n",
    "    \n",
    "    return final_list"
   ]
  },
  {
   "cell_type": "code",
   "execution_count": 5,
   "metadata": {
    "collapsed": false
   },
   "outputs": [
    {
     "data": {
      "text/plain": [
       "[[1994, 1, 1, 6, 8096],\n",
       " [1994, 1, 2, 7, 7772],\n",
       " [1994, 1, 3, 1, 10142],\n",
       " [1994, 1, 4, 2, 11248],\n",
       " [1994, 1, 5, 3, 11053],\n",
       " [1994, 1, 6, 4, 11406],\n",
       " [1994, 1, 7, 5, 11251],\n",
       " [1994, 1, 8, 6, 8653],\n",
       " [1994, 1, 9, 7, 7910],\n",
       " [1994, 1, 10, 1, 10498]]"
      ]
     },
     "execution_count": 5,
     "metadata": {},
     "output_type": "execute_result"
    }
   ],
   "source": [
    "# Call the function\n",
    "cdc_list = read_csv(\"US_births_1994-2003_CDC_NCHS.csv\")\n",
    "cdc_list[0:10]"
   ]
  },
  {
   "cell_type": "markdown",
   "metadata": {},
   "source": [
    "# 3. Calculating Number Of Births Each Month\n",
    "\n",
    "** Instructions**\n",
    "\n",
    "- Create a function named `month_births()` that takes single required argument list of lists and returns a dictionary containing number of month as the key and births occurred in the currosponding months as the value\n",
    "\n",
    "- Use the `month_births()` function to calculate the monthly totals for the dataset and assign the result to `cdc_month_births`. Display the dictionary."
   ]
  },
  {
   "cell_type": "code",
   "execution_count": 6,
   "metadata": {
    "collapsed": true
   },
   "outputs": [],
   "source": [
    "# Define the function\n",
    "def month_births(csv_data):\n",
    "    births_per_month = {}\n",
    "    for line in csv_data:\n",
    "        month = line[1]\n",
    "        births = line[4]\n",
    "        if month in births_per_month:\n",
    "            births_per_month[month] += births\n",
    "        else:\n",
    "            births_per_month[month] = births\n",
    "    return births_per_month"
   ]
  },
  {
   "cell_type": "code",
   "execution_count": 8,
   "metadata": {
    "collapsed": false
   },
   "outputs": [
    {
     "data": {
      "text/plain": [
       "{1: 3232517,\n",
       " 2: 3018140,\n",
       " 3: 3322069,\n",
       " 4: 3185314,\n",
       " 5: 3350907,\n",
       " 6: 3296530,\n",
       " 7: 3498783,\n",
       " 8: 3525858,\n",
       " 9: 3439698,\n",
       " 10: 3378814,\n",
       " 11: 3171647,\n",
       " 12: 3301860}"
      ]
     },
     "execution_count": 8,
     "metadata": {},
     "output_type": "execute_result"
    }
   ],
   "source": [
    "# Call the function\n",
    "cdc_month_births = month_births(cdc_list)\n",
    "cdc_month_births"
   ]
  },
  {
   "cell_type": "markdown",
   "metadata": {},
   "source": [
    "# 4. Calculating Number Of Births Each Day Of Week\n",
    "\n",
    "**Instructions**\n",
    "\n",
    "- Create a function named `dow_births()` that takes a single, required argument (a list of lists) and returns a dictionary containing the total number of births for each unique value of the `day_of_week` column.\n",
    "- Use the `dow_births()` function to return the day-of-week totals for the dataset and assign the result to `cdc_day_births`. Display the dictionary."
   ]
  },
  {
   "cell_type": "code",
   "execution_count": 9,
   "metadata": {
    "collapsed": true
   },
   "outputs": [],
   "source": [
    "# Define the function\n",
    "def dow_births(csv_data):\n",
    "    births_per_day = {}\n",
    "    for line in csv_data:\n",
    "        dow = line[3]\n",
    "        births = line[4]\n",
    "        if dow in births_per_day:\n",
    "            births_per_day[dow] += births\n",
    "        else:\n",
    "            births_per_day[dow] = births\n",
    "    return births_per_day"
   ]
  },
  {
   "cell_type": "code",
   "execution_count": 10,
   "metadata": {
    "collapsed": false
   },
   "outputs": [
    {
     "data": {
      "text/plain": [
       "{1: 5789166,\n",
       " 2: 6446196,\n",
       " 3: 6322855,\n",
       " 4: 6288429,\n",
       " 5: 6233657,\n",
       " 6: 4562111,\n",
       " 7: 4079723}"
      ]
     },
     "execution_count": 10,
     "metadata": {},
     "output_type": "execute_result"
    }
   ],
   "source": [
    "# Call the function\n",
    "cdc_day_births = dow_births(cdc_list)\n",
    "cdc_day_births"
   ]
  },
  {
   "cell_type": "markdown",
   "metadata": {},
   "source": [
    "# 5. Creating A More General Function\n",
    "\n",
    "** Instructions **\n",
    "\n",
    "- Create a function named `calc_counts()` that takes `data` and `column` (which takes column number we want to calculate the totals for). \n",
    "- Use the calc_counts() function to:\n",
    "    - Return the yearly totals for the dataset and assign the result to `cdc_year_births`.\n",
    "    - Return the monthly totals for the dataset and assign the result to `cdc_month_births`.\n",
    "    - Return the day-of-month totals for the dataset and assign the result to `cdc_dom_births`.\n",
    "    - Return the day-of-week totals for the dataset and assign the result to `cdc_dow_births`."
   ]
  },
  {
   "cell_type": "code",
   "execution_count": 13,
   "metadata": {
    "collapsed": true
   },
   "outputs": [],
   "source": [
    "# Define the function\n",
    "def calc_counts(csv_data, col):\n",
    "    births_per_col = {}\n",
    "    for line in csv_data:\n",
    "        col_value = line[col]\n",
    "        births = line[4]\n",
    "        if col_value in births_per_col:\n",
    "            births_per_col[col_value] += births\n",
    "        else:\n",
    "            births_per_col[col_value] = births\n",
    "    return births_per_col"
   ]
  },
  {
   "cell_type": "code",
   "execution_count": 14,
   "metadata": {
    "collapsed": false
   },
   "outputs": [],
   "source": [
    "# Function calls\n",
    "cdc_year_births = calc_counts(cdc_list, 0)\n",
    "cdc_month_births = calc_counts(cdc_list, 1)\n",
    "cdc_dom_births = calc_counts(cdc_list, 2)\n",
    "cdc_dow_births = calc_counts(cdc_list, 3)"
   ]
  },
  {
   "cell_type": "code",
   "execution_count": null,
   "metadata": {
    "collapsed": true
   },
   "outputs": [],
   "source": []
  }
 ],
 "metadata": {
  "anaconda-cloud": {},
  "kernelspec": {
   "display_name": "Python 3",
   "language": "python",
   "name": "python3"
  },
  "language_info": {
   "codemirror_mode": {
    "name": "ipython",
    "version": 3
   },
   "file_extension": ".py",
   "mimetype": "text/x-python",
   "name": "python",
   "nbconvert_exporter": "python",
   "pygments_lexer": "ipython3",
   "version": "3.4.3"
  }
 },
 "nbformat": 4,
 "nbformat_minor": 1
}
